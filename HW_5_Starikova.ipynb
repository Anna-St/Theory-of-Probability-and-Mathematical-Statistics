{
 "cells": [
  {
   "cell_type": "markdown",
   "metadata": {},
   "source": [
    "### Задача 1\n",
    "\n",
    "Утверждается, что шарики для подшипников, изготовленные автоматическим станком, имеют средний диаметр 17 мм. Используя уровень значимости 0.05 и правостороннюю критическую область, проверить данную гипотезу при условии, что в выборке из 100 шариков средний диаметр оказался равным 17.5 мм, а дисперсия известна и равна 4 мм."
   ]
  },
  {
   "cell_type": "markdown",
   "metadata": {},
   "source": [
    "#### Решение"
   ]
  },
  {
   "cell_type": "markdown",
   "metadata": {},
   "source": [
    "Величины диаметров получаемых шариков имеют нормальное распределение.   "
   ]
  },
  {
   "cell_type": "markdown",
   "metadata": {},
   "source": [
    "#### 1. Формулируются нулевая и альтернативная гипотезы. \n",
    "Нулевая гипотеза: $H_0: a = 17$. Альтернативная гипотеза (односторонняя) $H_1: a > 17$. "
   ]
  },
  {
   "cell_type": "markdown",
   "metadata": {},
   "source": [
    "#### 2. Задаётся некоторая функция  𝑇  от выборки\n",
    "Т.к. случайная величина диаметра имеет нормальное распределение, то среднее значение повыборке $T$ будет также иметь нормальное распределение с параметрами $a = 17$ и $\\sigma = \\sqrt{\\dfrac{D(X)}{n}} = \\sqrt {\\dfrac{4}{100}} = 0.2 $"
   ]
  },
  {
   "cell_type": "markdown",
   "metadata": {},
   "source": [
    "#### 3. Фиксируется уровень значимости  𝛼\n",
    "𝛼 = 0.05"
   ]
  },
  {
   "cell_type": "markdown",
   "metadata": {},
   "source": [
    "#### 4. Определяется критическая область  $\\Omega_\\alpha$\n",
    "Т.к. правосторонняя критическая область, то $\\Omega_\\alpha = (t_{1 - \\alpha}, \\infty)$.\n",
    "Уровень значимости $\\alpha = 0.05$ значит, что для проверки нулевой гипотезы надо, чтобы с вероятностью 95% выборочное среднее попадало в правосторонний интервал, который (по правилу 2-х сигм) равен $(a, a + 2 \\cdot \\sigma) = (17, 17.4)$."
   ]
  },
  {
   "cell_type": "markdown",
   "metadata": {},
   "source": [
    "#### 5. Проводится статистический тест\n",
    "Выборочное среднее = 17.5 не попадает в критическую область, значит нулевая гипотеза отвергается."
   ]
  },
  {
   "cell_type": "markdown",
   "metadata": {},
   "source": [
    "### Задача 2\n",
    "\n",
    "Известно, что генеральная совокупность распределена нормально со средним квадратическим отклонением 16. Найти доверительный интервал для оценки математического ожидания a с надежностью 0.95, если выборочное среднее равно 80, а объём равен 256."
   ]
  },
  {
   "cell_type": "markdown",
   "metadata": {},
   "source": [
    "#### Решение"
   ]
  },
  {
   "cell_type": "markdown",
   "metadata": {},
   "source": [
    "$\\overline{X} = 80, n = 256, \\sigma = 16$"
   ]
  },
  {
   "cell_type": "markdown",
   "metadata": {},
   "source": [
    "$$T_{1,2} = \\overline{X} \\pm \\frac{s_0}{\\sqrt{n}} \\cdot c_{\\gamma}$$"
   ]
  },
  {
   "cell_type": "markdown",
   "metadata": {},
   "source": [
    "$c_{\\gamma} = Ф^{-1} \\frac{(1 + \\gamma)}{2}$ — обратное значение функции стандартного нормального распределения."
   ]
  },
  {
   "cell_type": "markdown",
   "metadata": {},
   "source": [
    "$$Ф_{\\gamma} = \\gamma/2 = 0.95/2 = 0.425\\\\\n",
    "c_{\\gamma} \\approx 1.96$$"
   ]
  },
  {
   "cell_type": "markdown",
   "metadata": {},
   "source": [
    "$$T_{1,2} = 80 \\pm \\frac{16}{\\sqrt{256}} \\cdot 1.96$$\n",
    "Доверительный интервал: (70.96; 81.96)"
   ]
  },
  {
   "cell_type": "markdown",
   "metadata": {},
   "source": [
    "### Задача 3\n",
    "\n",
    "Продавец утверждает, что средний вес пачки печенья составляет 200 г. Из партии извлечена выборка из 10 пачек. Вес каждой пачки составляет:\n",
    "\n",
    "$202, 203, 199, 197, 195, 201, 200, 204, 194, 190$\n",
    "\n",
    "Известно, что их веса распределены нормально. Верно ли утверждение продавца, если учитывать, что доверительная вероятность равна 99%?"
   ]
  },
  {
   "cell_type": "markdown",
   "metadata": {},
   "source": [
    "#### Решение"
   ]
  },
  {
   "cell_type": "code",
   "execution_count": 1,
   "metadata": {},
   "outputs": [],
   "source": [
    "import numpy as np\n",
    "from scipy import stats"
   ]
  },
  {
   "cell_type": "markdown",
   "metadata": {},
   "source": [
    "Вычислим показатели выборки:\n",
    "выборочное среднее $$\\overline{X} = \\dfrac{1}{n} \\sum x_i = \\frac{1985}{10} = 198.5$$  \n",
    "Дисперсия:\n",
    "$$S^2 = \\dfrac{1}{n-1} \\sum(x_i - \\overline{X})^2 \\approx  4.453$$ "
   ]
  },
  {
   "cell_type": "code",
   "execution_count": 2,
   "metadata": {},
   "outputs": [
    {
     "name": "stdout",
     "output_type": "stream",
     "text": [
      "198.5 4.453463071962462\n"
     ]
    }
   ],
   "source": [
    "sample = np.array([202, 203, 199, 197, 195, 201, 200, 204, 194, 190])\n",
    "mean = sample.mean()\n",
    "std = sample.std(ddof=1)\n",
    "print(mean, std)"
   ]
  },
  {
   "cell_type": "markdown",
   "metadata": {},
   "source": [
    "Определим коэффициент Стьюдента:\n",
    "числостепеней свободы $= n - 1 = 9$\n",
    "коэффициент = 3.2498    "
   ]
  },
  {
   "cell_type": "code",
   "execution_count": 3,
   "metadata": {},
   "outputs": [
    {
     "data": {
      "text/plain": [
       "(-3.2498355440153697, 3.2498355440153697)"
      ]
     },
     "execution_count": 3,
     "metadata": {},
     "output_type": "execute_result"
    }
   ],
   "source": [
    "n = 10\n",
    "t = stats.t(n - 1)\n",
    "t.interval(0.99)"
   ]
  },
  {
   "cell_type": "markdown",
   "metadata": {},
   "source": [
    "Доверительный интервал: "
   ]
  },
  {
   "cell_type": "code",
   "execution_count": 4,
   "metadata": {},
   "outputs": [
    {
     "data": {
      "text/plain": [
       "(193.92322840036354, 203.07677159963646)"
      ]
     },
     "execution_count": 4,
     "metadata": {},
     "output_type": "execute_result"
    }
   ],
   "source": [
    "(mean + t.interval(0.99)[0] * std / np.sqrt(n), mean + t.interval(0.99)[1] * std / np.sqrt(n))"
   ]
  },
  {
   "cell_type": "markdown",
   "metadata": {},
   "source": [
    "200 входит в интервал, значит утверждение продавца может быть принято"
   ]
  }
 ],
 "metadata": {
  "kernelspec": {
   "display_name": "Python 3",
   "language": "python",
   "name": "python3"
  },
  "language_info": {
   "codemirror_mode": {
    "name": "ipython",
    "version": 3
   },
   "file_extension": ".py",
   "mimetype": "text/x-python",
   "name": "python",
   "nbconvert_exporter": "python",
   "pygments_lexer": "ipython3",
   "version": "3.7.1"
  }
 },
 "nbformat": 4,
 "nbformat_minor": 2
}
