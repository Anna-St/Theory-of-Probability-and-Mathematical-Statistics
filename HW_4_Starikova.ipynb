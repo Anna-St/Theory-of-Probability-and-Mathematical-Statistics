{
 "cells": [
  {
   "cell_type": "markdown",
   "metadata": {},
   "source": [
    "### Задача 1\n",
    "\n",
    "О непрерывной равномерно распределенной случайной величине $B$ известно, что ее дисперсия равна $0.2$. Можно ли найти правую границу величины $B$ и ее среднее значение зная, что левая граница равна $0.5$? Если да, найдите ее."
   ]
  },
  {
   "cell_type": "markdown",
   "metadata": {},
   "source": [
    "#### Решение"
   ]
  },
  {
   "cell_type": "markdown",
   "metadata": {},
   "source": [
    "Математическое ожидание $M(X)$ и дисперсия $D(X)$ равномерно распределенной непрерывной случайной величины:\n",
    "    $$M(X) = \\frac{a + b}{2},   D(X) = \\frac{(b - a)^2}{12}$$"
   ]
  },
  {
   "cell_type": "markdown",
   "metadata": {},
   "source": [
    "Левая граница $a$, следовательно правая граница $b$:\n",
    "    $$b = \\sqrt{0.2*12} + 0.5$$"
   ]
  },
  {
   "cell_type": "code",
   "execution_count": 1,
   "metadata": {},
   "outputs": [],
   "source": [
    "a = 0.5\n",
    "D = 0.2"
   ]
  },
  {
   "cell_type": "code",
   "execution_count": 2,
   "metadata": {},
   "outputs": [
    {
     "name": "stdout",
     "output_type": "stream",
     "text": [
      "Можно. Правая граница b = 2.049193338482967, среднее значение M = 1.2745966692414834\n"
     ]
    }
   ],
   "source": [
    "b = (D*12)**0.5 + a\n",
    "M = (a + b)/2\n",
    "print(f'Можно. Правая граница b = {b}, среднее значение M = {M}')"
   ]
  },
  {
   "cell_type": "markdown",
   "metadata": {},
   "source": [
    "### Задача 2\n",
    "\n",
    "На сколько сигм (средних квадратических отклонений) отклоняется рост человека, равный $190$ см, от математического ожидания роста в популяции, в которой $M(X) = 178$ и $D(X) = 25$?"
   ]
  },
  {
   "cell_type": "markdown",
   "metadata": {},
   "source": [
    "#### Решение"
   ]
  },
  {
   "cell_type": "markdown",
   "metadata": {},
   "source": [
    "Рост человека имеет нормальное распределение. Значит:\n",
    "    $a = M(X), \\; \\sigma^2 = D(X).$"
   ]
  },
  {
   "cell_type": "markdown",
   "metadata": {},
   "source": [
    "Следовательно: $\\sigma = \\sqrt{D(X)} = 5$"
   ]
  },
  {
   "cell_type": "markdown",
   "metadata": {},
   "source": [
    "Отклонение = $\\frac{(190 - M)}{\\sqrt{D}}$"
   ]
  },
  {
   "cell_type": "code",
   "execution_count": 3,
   "metadata": {},
   "outputs": [
    {
     "data": {
      "text/plain": [
       "2.4"
      ]
     },
     "execution_count": 3,
     "metadata": {},
     "output_type": "execute_result"
    }
   ],
   "source": [
    "(190 - 178)/25**0.5"
   ]
  },
  {
   "cell_type": "markdown",
   "metadata": {},
   "source": [
    "### Задача 3\n",
    "\n",
    "Рост взрослого населения города X имеет нормальное распределение, причем, средний рост равен 174 см, а среднее квадратическое отклонение равно 8 см. Какова вероятность того, что случайным образом выбранный взрослый человек имеет рост:\n",
    "1. больше 182 см?\n",
    "2. больше 190 см?\n",
    "3. от 166 см до 190 см?\n",
    "4. от 166 см до 182 см?\n",
    "5. от 158 см до 190 см?\n",
    "6. не выше 150 см или не ниже 190 см?\n",
    "7. не выше 150 см или не ниже 198 см?\n",
    "8. ниже 166 см?"
   ]
  },
  {
   "cell_type": "markdown",
   "metadata": {},
   "source": [
    "Так как все величины, указанные в пунктах 1-8 задания, равны $a \\pm 1,2,3 \\sigma $\n",
    "\n",
    "Воспользуемсся правилами сигм:\n",
    "* Интервал от $a - \\sigma$ до $a + \\sigma$ содержит около 68% вероятностной массы.\n",
    "* От $a - 2\\sigma$ до $a + 2\\sigma$ — около 95% массы (__правило двух сигм__).\n",
    "* От $a - 3\\sigma$ до $a + 3\\sigma$ — около 99.7% массы (__правило трёх сигм__)."
   ]
  },
  {
   "cell_type": "code",
   "execution_count": 4,
   "metadata": {},
   "outputs": [],
   "source": [
    "from scipy.stats import norm"
   ]
  },
  {
   "cell_type": "markdown",
   "metadata": {},
   "source": [
    "#### 1. больше 182 см \n",
    "т.е. вероятность для $x > a + \\sigma$. Эта вероятность = полная вероятность - вероятность для интервала от $a - \\sigma$ до $a + \\sigma$ и все это пополам.\n",
    "$$ = \\frac{100 - (a\\pm\\sigma)}{2*100} = \\frac{100 - 68}{2*100} = 0.16$$"
   ]
  },
  {
   "cell_type": "code",
   "execution_count": 5,
   "metadata": {},
   "outputs": [
    {
     "data": {
      "text/plain": [
       "0.15865525393145707"
      ]
     },
     "execution_count": 5,
     "metadata": {},
     "output_type": "execute_result"
    }
   ],
   "source": [
    "#проверка\n",
    "norm.sf(x=182,loc=174,scale=8)"
   ]
  },
  {
   "cell_type": "markdown",
   "metadata": {},
   "source": [
    "#### 2. больше 190 см \n",
    "т.е. вероятность для $x > a + 2\\sigma$. Эта вероятность = полная вероятность - вероятность для интервала от $a - 2\\sigma$ до $a + 2\\sigma$ и все это пополам.\n",
    "$$ = \\frac{100 - (a\\pm2\\sigma)}{2*100} = \\frac{100 - 95}{2*100} = 0.025$$"
   ]
  },
  {
   "cell_type": "code",
   "execution_count": 6,
   "metadata": {},
   "outputs": [
    {
     "data": {
      "text/plain": [
       "0.022750131948179195"
      ]
     },
     "execution_count": 6,
     "metadata": {},
     "output_type": "execute_result"
    }
   ],
   "source": [
    "#проверка\n",
    "norm.sf(x=190,loc=174,scale=8)"
   ]
  },
  {
   "cell_type": "markdown",
   "metadata": {},
   "source": [
    "#### 3. от 166 см до 190 см \n",
    "т.е. вероятность для $a - \\sigma < x < a + 2\\sigma$. Эта вероятность = полная вероятность - вероятность для интервала от $a - 2\\sigma$ до $a + 2\\sigma$ и все это пополам.\n",
    "$$ = \\frac{100 - (a\\pm2\\sigma)}{2*100} = \\frac{100 - 95}{2*100} = 0.025$$"
   ]
  },
  {
   "cell_type": "code",
   "execution_count": 7,
   "metadata": {},
   "outputs": [
    {
     "data": {
      "text/plain": [
       "0.8185946141203637"
      ]
     },
     "execution_count": 7,
     "metadata": {},
     "output_type": "execute_result"
    }
   ],
   "source": [
    "#проверка\n",
    "norm.cdf(x=190,loc=174,scale=8) - norm.cdf(x=166,loc=174,scale=8)"
   ]
  },
  {
   "cell_type": "markdown",
   "metadata": {},
   "source": [
    "#### 4. от 166 см до 182 см \n",
    "т.е. вероятность для $a - \\sigma < x < a + \\sigma$. Т.е. из правила $= 0.68$"
   ]
  },
  {
   "cell_type": "code",
   "execution_count": 8,
   "metadata": {},
   "outputs": [
    {
     "data": {
      "text/plain": [
       "0.6826894921370859"
      ]
     },
     "execution_count": 8,
     "metadata": {},
     "output_type": "execute_result"
    }
   ],
   "source": [
    "#проверка\n",
    "norm.cdf(x=182,loc=174,scale=8) - norm.cdf(x=166,loc=174,scale=8)"
   ]
  },
  {
   "cell_type": "markdown",
   "metadata": {},
   "source": [
    "#### 5. от 158 см до 190 см \n",
    "т.е. вероятность для $a - 2\\sigma < x < a + 2\\sigma$. Т.е. из правила $= 0.95$"
   ]
  },
  {
   "cell_type": "code",
   "execution_count": 9,
   "metadata": {},
   "outputs": [
    {
     "data": {
      "text/plain": [
       "0.9544997361036416"
      ]
     },
     "execution_count": 9,
     "metadata": {},
     "output_type": "execute_result"
    }
   ],
   "source": [
    "#проверка\n",
    "norm.cdf(x=190,loc=174,scale=8) - norm.cdf(x=158,loc=174,scale=8)"
   ]
  },
  {
   "cell_type": "markdown",
   "metadata": {},
   "source": [
    "#### 6. не выше 150 см или не ниже 190 см \n",
    "т.е. сумма вероятностей для $x \\le a - 3\\sigma$ и $x \\ge a + 2\\sigma$. Эта вероятность = полная вероятность - вероятность для интервала  $a - 3\\sigma < x < a + 2\\sigma$ (находим аналогично п.3)\n",
    "$$ = 1 - (\\frac{a\\pm2\\sigma}{2*100} + \\frac{a\\pm3\\sigma}{2*100}) = 1 - (\\frac{95}{200} +\\frac{99.7}{200}) = 0.0265$$"
   ]
  },
  {
   "cell_type": "code",
   "execution_count": 10,
   "metadata": {},
   "outputs": [
    {
     "data": {
      "text/plain": [
       "0.024100029979809288"
      ]
     },
     "execution_count": 10,
     "metadata": {},
     "output_type": "execute_result"
    }
   ],
   "source": [
    "# проверка\n",
    "norm.cdf(x=150,loc=174,scale=8) + norm.sf(x=190,loc=174,scale=8)"
   ]
  },
  {
   "cell_type": "markdown",
   "metadata": {},
   "source": [
    "#### 7. не выше 150 см или не ниже 198 см \n",
    "т.е. сумма вероятностей для $x \\le a - 3\\sigma$ и $x \\ge a + 3\\sigma$. Эта вероятность = полная вероятность - вероятность для интервала  $a \\pm3\\sigma$\n",
    "$$ = 1 - 0.997 = 0.003$$"
   ]
  },
  {
   "cell_type": "code",
   "execution_count": 11,
   "metadata": {},
   "outputs": [
    {
     "data": {
      "text/plain": [
       "0.0026997960632601866"
      ]
     },
     "execution_count": 11,
     "metadata": {},
     "output_type": "execute_result"
    }
   ],
   "source": [
    "# проверка\n",
    "norm.cdf(x=150,loc=174,scale=8) + norm.sf(x=198,loc=174,scale=8)"
   ]
  },
  {
   "cell_type": "markdown",
   "metadata": {},
   "source": [
    "#### 8. ниже 166 см \n",
    "т.е. вероятность для $x < a + \\sigma$. Эта вероятность = полная вероятность - вероятность для интервала от $a - \\sigma$ до $a + \\sigma$ и все это пополам (аналогично п.1)\n",
    "$$ = \\frac{100 - (a\\pm\\sigma)}{2*100} = \\frac{100 - 68}{2*100} = 0.16$$"
   ]
  },
  {
   "cell_type": "code",
   "execution_count": 12,
   "metadata": {},
   "outputs": [
    {
     "data": {
      "text/plain": [
       "0.15865525393145707"
      ]
     },
     "execution_count": 12,
     "metadata": {},
     "output_type": "execute_result"
    }
   ],
   "source": [
    "# проверка\n",
    "norm.cdf(x=166,loc=174,scale=8)"
   ]
  }
 ],
 "metadata": {
  "kernelspec": {
   "display_name": "Python 3",
   "language": "python",
   "name": "python3"
  },
  "language_info": {
   "codemirror_mode": {
    "name": "ipython",
    "version": 3
   },
   "file_extension": ".py",
   "mimetype": "text/x-python",
   "name": "python",
   "nbconvert_exporter": "python",
   "pygments_lexer": "ipython3",
   "version": "3.7.1"
  }
 },
 "nbformat": 4,
 "nbformat_minor": 2
}
